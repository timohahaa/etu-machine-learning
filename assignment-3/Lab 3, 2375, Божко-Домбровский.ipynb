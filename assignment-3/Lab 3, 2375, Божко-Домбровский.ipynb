{
 "cells": [
  {
   "cell_type": "markdown",
   "id": "de881287-b556-4b0e-ab0f-bb6bc8fcf1b0",
   "metadata": {
    "jp-MarkdownHeadingCollapsed": true
   },
   "source": [
    "# Краткое описание датасета\n",
    "Датасет представляет собой набор характеристик белого и красного вина, а так же оценку качества вина (по 10-бальной шкале) в соответствии с этими характеристиками\n",
    "\n",
    "### Атрибуты\n",
    "Датасет состоит только из числовых атрибутов - все они типа float, кроме оценки вина.\n",
    "Имеются следующие атрибуты:\n",
    "- fixed acidity        - общая кислотность вина в г/дм3\n",
    "- volatile acidity     - количество уксусной кислоты в г/дм3\n",
    "- citric acid          - количество лимонной кислоты в г/дм3\n",
    "- residual sugar       - остаточный сахар в г/дм3\n",
    "- chlorides            - количество соли в в г/дм3\n",
    "- free sulfur dioxide  - количество свободного диоксида серы (сернистый газ) в мг/дм3\n",
    "- total sulfur dioxide - общее количество диоксида серы (сернистый газ) в мг/дм3\n",
    "- density              - плотность вина в г/дм3\n",
    "- pH                   - концентрация ионов водорода в жидкости (pH уровень)\n",
    "- sulphates            - количество сульфатов в г/дм3\n",
    "- alcohol              - процентное содержание алкоголя\n",
    "- quality              - оценка качества вина по шкале от 0 до 10\n",
    "\n",
    "### Источик данных и характер данных\n",
    "Датасет взят из: https://www.kaggle.com/datasets/abdullah0a/wine-quality-red-white-analysis-dataset/data.\n",
    "Автор не указал источник и характер данных, но можно предположить, что данные являются реальными, а не имитационными\n",
    "\n",
    "### Описание задачи анализа\n",
    "Описания задачи анализа как такового нет.\n",
    "Оценивая датасет, можно сказать, что он отлично подойдет для задач классификации и регрессии (по атрибуту quality), а так же для задачи кластеризации (по характеристикам вина определить его сухость/сладость)"
   ]
  },
  {
   "cell_type": "markdown",
   "id": "fa0ab466-bff7-4cec-82e4-64d4e31b67aa",
   "metadata": {},
   "source": [
    "# Первичная работа"
   ]
  },
  {
   "cell_type": "code",
   "execution_count": 1,
   "id": "f7753ca9-2d30-47c8-8d07-982342691b01",
   "metadata": {},
   "outputs": [],
   "source": [
    "import pandas as pd\n",
    "import numpy as np\n",
    "import matplotlib.pyplot as plt\n",
    "import seaborn as sns\n",
    "import warnings\n",
    "warnings.filterwarnings('ignore')"
   ]
  },
  {
   "cell_type": "code",
   "execution_count": 2,
   "id": "ea76e2a2-67ee-4749-b2d4-81f6f6667219",
   "metadata": {},
   "outputs": [],
   "source": [
    "#load data\n",
    "red_wine=pd.read_csv('../dataset/wine-quality Red.csv')\n",
    "white_wine=pd.read_csv('../dataset/wine-quality White.csv')"
   ]
  },
  {
   "cell_type": "code",
   "execution_count": 3,
   "id": "bd87bd2a-a7f0-4332-b1f8-ec45ffabb227",
   "metadata": {},
   "outputs": [
    {
     "data": {
      "text/html": [
       "<div>\n",
       "<style scoped>\n",
       "    .dataframe tbody tr th:only-of-type {\n",
       "        vertical-align: middle;\n",
       "    }\n",
       "\n",
       "    .dataframe tbody tr th {\n",
       "        vertical-align: top;\n",
       "    }\n",
       "\n",
       "    .dataframe thead th {\n",
       "        text-align: right;\n",
       "    }\n",
       "</style>\n",
       "<table border=\"1\" class=\"dataframe\">\n",
       "  <thead>\n",
       "    <tr style=\"text-align: right;\">\n",
       "      <th></th>\n",
       "      <th>fixed acidity</th>\n",
       "      <th>volatile acidity</th>\n",
       "      <th>citric acid</th>\n",
       "      <th>residual sugar</th>\n",
       "      <th>chlorides</th>\n",
       "      <th>free sulfur dioxide</th>\n",
       "      <th>total sulfur dioxide</th>\n",
       "      <th>density</th>\n",
       "      <th>pH</th>\n",
       "      <th>sulphates</th>\n",
       "      <th>alcohol</th>\n",
       "      <th>quality</th>\n",
       "    </tr>\n",
       "  </thead>\n",
       "  <tbody>\n",
       "    <tr>\n",
       "      <th>0</th>\n",
       "      <td>7.4</td>\n",
       "      <td>0.70</td>\n",
       "      <td>0.00</td>\n",
       "      <td>1.9</td>\n",
       "      <td>0.076</td>\n",
       "      <td>11.0</td>\n",
       "      <td>34.0</td>\n",
       "      <td>0.9978</td>\n",
       "      <td>3.51</td>\n",
       "      <td>0.56</td>\n",
       "      <td>9.4</td>\n",
       "      <td>5</td>\n",
       "    </tr>\n",
       "    <tr>\n",
       "      <th>1</th>\n",
       "      <td>7.8</td>\n",
       "      <td>0.88</td>\n",
       "      <td>0.00</td>\n",
       "      <td>2.6</td>\n",
       "      <td>0.098</td>\n",
       "      <td>25.0</td>\n",
       "      <td>67.0</td>\n",
       "      <td>0.9968</td>\n",
       "      <td>3.20</td>\n",
       "      <td>0.68</td>\n",
       "      <td>9.8</td>\n",
       "      <td>5</td>\n",
       "    </tr>\n",
       "    <tr>\n",
       "      <th>2</th>\n",
       "      <td>7.8</td>\n",
       "      <td>0.76</td>\n",
       "      <td>0.04</td>\n",
       "      <td>2.3</td>\n",
       "      <td>0.092</td>\n",
       "      <td>15.0</td>\n",
       "      <td>54.0</td>\n",
       "      <td>0.9970</td>\n",
       "      <td>3.26</td>\n",
       "      <td>0.65</td>\n",
       "      <td>9.8</td>\n",
       "      <td>5</td>\n",
       "    </tr>\n",
       "    <tr>\n",
       "      <th>3</th>\n",
       "      <td>11.2</td>\n",
       "      <td>0.28</td>\n",
       "      <td>0.56</td>\n",
       "      <td>1.9</td>\n",
       "      <td>0.075</td>\n",
       "      <td>17.0</td>\n",
       "      <td>60.0</td>\n",
       "      <td>0.9980</td>\n",
       "      <td>3.16</td>\n",
       "      <td>0.58</td>\n",
       "      <td>9.8</td>\n",
       "      <td>6</td>\n",
       "    </tr>\n",
       "    <tr>\n",
       "      <th>4</th>\n",
       "      <td>7.4</td>\n",
       "      <td>0.70</td>\n",
       "      <td>0.00</td>\n",
       "      <td>1.9</td>\n",
       "      <td>0.076</td>\n",
       "      <td>11.0</td>\n",
       "      <td>34.0</td>\n",
       "      <td>0.9978</td>\n",
       "      <td>3.51</td>\n",
       "      <td>0.56</td>\n",
       "      <td>9.4</td>\n",
       "      <td>5</td>\n",
       "    </tr>\n",
       "  </tbody>\n",
       "</table>\n",
       "</div>"
      ],
      "text/plain": [
       "   fixed acidity  volatile acidity  citric acid  residual sugar  chlorides  \\\n",
       "0            7.4              0.70         0.00             1.9      0.076   \n",
       "1            7.8              0.88         0.00             2.6      0.098   \n",
       "2            7.8              0.76         0.04             2.3      0.092   \n",
       "3           11.2              0.28         0.56             1.9      0.075   \n",
       "4            7.4              0.70         0.00             1.9      0.076   \n",
       "\n",
       "   free sulfur dioxide  total sulfur dioxide  density    pH  sulphates  \\\n",
       "0                 11.0                  34.0   0.9978  3.51       0.56   \n",
       "1                 25.0                  67.0   0.9968  3.20       0.68   \n",
       "2                 15.0                  54.0   0.9970  3.26       0.65   \n",
       "3                 17.0                  60.0   0.9980  3.16       0.58   \n",
       "4                 11.0                  34.0   0.9978  3.51       0.56   \n",
       "\n",
       "   alcohol  quality  \n",
       "0      9.4        5  \n",
       "1      9.8        5  \n",
       "2      9.8        5  \n",
       "3      9.8        6  \n",
       "4      9.4        5  "
      ]
     },
     "execution_count": 3,
     "metadata": {},
     "output_type": "execute_result"
    }
   ],
   "source": [
    "red_wine.head()"
   ]
  },
  {
   "cell_type": "code",
   "execution_count": 4,
   "id": "76a6aae3-7845-4321-b48e-4ebae87c23d9",
   "metadata": {},
   "outputs": [
    {
     "data": {
      "text/html": [
       "<div>\n",
       "<style scoped>\n",
       "    .dataframe tbody tr th:only-of-type {\n",
       "        vertical-align: middle;\n",
       "    }\n",
       "\n",
       "    .dataframe tbody tr th {\n",
       "        vertical-align: top;\n",
       "    }\n",
       "\n",
       "    .dataframe thead th {\n",
       "        text-align: right;\n",
       "    }\n",
       "</style>\n",
       "<table border=\"1\" class=\"dataframe\">\n",
       "  <thead>\n",
       "    <tr style=\"text-align: right;\">\n",
       "      <th></th>\n",
       "      <th>fixed acidity</th>\n",
       "      <th>volatile acidity</th>\n",
       "      <th>citric acid</th>\n",
       "      <th>residual sugar</th>\n",
       "      <th>chlorides</th>\n",
       "      <th>free sulfur dioxide</th>\n",
       "      <th>total sulfur dioxide</th>\n",
       "      <th>density</th>\n",
       "      <th>pH</th>\n",
       "      <th>sulphates</th>\n",
       "      <th>alcohol</th>\n",
       "      <th>quality</th>\n",
       "    </tr>\n",
       "  </thead>\n",
       "  <tbody>\n",
       "    <tr>\n",
       "      <th>0</th>\n",
       "      <td>7.0</td>\n",
       "      <td>0.27</td>\n",
       "      <td>0.36</td>\n",
       "      <td>20.7</td>\n",
       "      <td>0.045</td>\n",
       "      <td>45.0</td>\n",
       "      <td>170.0</td>\n",
       "      <td>1.0010</td>\n",
       "      <td>3.00</td>\n",
       "      <td>0.45</td>\n",
       "      <td>8.8</td>\n",
       "      <td>6</td>\n",
       "    </tr>\n",
       "    <tr>\n",
       "      <th>1</th>\n",
       "      <td>6.3</td>\n",
       "      <td>0.30</td>\n",
       "      <td>0.34</td>\n",
       "      <td>1.6</td>\n",
       "      <td>0.049</td>\n",
       "      <td>14.0</td>\n",
       "      <td>132.0</td>\n",
       "      <td>0.9940</td>\n",
       "      <td>3.30</td>\n",
       "      <td>0.49</td>\n",
       "      <td>9.5</td>\n",
       "      <td>6</td>\n",
       "    </tr>\n",
       "    <tr>\n",
       "      <th>2</th>\n",
       "      <td>8.1</td>\n",
       "      <td>0.28</td>\n",
       "      <td>0.40</td>\n",
       "      <td>6.9</td>\n",
       "      <td>0.050</td>\n",
       "      <td>30.0</td>\n",
       "      <td>97.0</td>\n",
       "      <td>0.9951</td>\n",
       "      <td>3.26</td>\n",
       "      <td>0.44</td>\n",
       "      <td>10.1</td>\n",
       "      <td>6</td>\n",
       "    </tr>\n",
       "    <tr>\n",
       "      <th>3</th>\n",
       "      <td>7.2</td>\n",
       "      <td>0.23</td>\n",
       "      <td>0.32</td>\n",
       "      <td>8.5</td>\n",
       "      <td>0.058</td>\n",
       "      <td>47.0</td>\n",
       "      <td>186.0</td>\n",
       "      <td>0.9956</td>\n",
       "      <td>3.19</td>\n",
       "      <td>0.40</td>\n",
       "      <td>9.9</td>\n",
       "      <td>6</td>\n",
       "    </tr>\n",
       "    <tr>\n",
       "      <th>4</th>\n",
       "      <td>7.2</td>\n",
       "      <td>0.23</td>\n",
       "      <td>0.32</td>\n",
       "      <td>8.5</td>\n",
       "      <td>0.058</td>\n",
       "      <td>47.0</td>\n",
       "      <td>186.0</td>\n",
       "      <td>0.9956</td>\n",
       "      <td>3.19</td>\n",
       "      <td>0.40</td>\n",
       "      <td>9.9</td>\n",
       "      <td>6</td>\n",
       "    </tr>\n",
       "  </tbody>\n",
       "</table>\n",
       "</div>"
      ],
      "text/plain": [
       "   fixed acidity  volatile acidity  citric acid  residual sugar  chlorides  \\\n",
       "0            7.0              0.27         0.36            20.7      0.045   \n",
       "1            6.3              0.30         0.34             1.6      0.049   \n",
       "2            8.1              0.28         0.40             6.9      0.050   \n",
       "3            7.2              0.23         0.32             8.5      0.058   \n",
       "4            7.2              0.23         0.32             8.5      0.058   \n",
       "\n",
       "   free sulfur dioxide  total sulfur dioxide  density    pH  sulphates  \\\n",
       "0                 45.0                 170.0   1.0010  3.00       0.45   \n",
       "1                 14.0                 132.0   0.9940  3.30       0.49   \n",
       "2                 30.0                  97.0   0.9951  3.26       0.44   \n",
       "3                 47.0                 186.0   0.9956  3.19       0.40   \n",
       "4                 47.0                 186.0   0.9956  3.19       0.40   \n",
       "\n",
       "   alcohol  quality  \n",
       "0      8.8        6  \n",
       "1      9.5        6  \n",
       "2     10.1        6  \n",
       "3      9.9        6  \n",
       "4      9.9        6  "
      ]
     },
     "execution_count": 4,
     "metadata": {},
     "output_type": "execute_result"
    }
   ],
   "source": [
    "white_wine.head()\n"
   ]
  },
  {
   "cell_type": "code",
   "execution_count": 5,
   "id": "ceb76dd6-fdea-4a23-af79-c3c0d10d1942",
   "metadata": {},
   "outputs": [
    {
     "data": {
      "text/plain": [
       "(1599, 12)"
      ]
     },
     "execution_count": 5,
     "metadata": {},
     "output_type": "execute_result"
    }
   ],
   "source": [
    "red_wine.shape"
   ]
  },
  {
   "cell_type": "code",
   "execution_count": 6,
   "id": "931349d0-c881-4e21-8d58-8565e44227cf",
   "metadata": {},
   "outputs": [
    {
     "data": {
      "text/plain": [
       "(4898, 12)"
      ]
     },
     "execution_count": 6,
     "metadata": {},
     "output_type": "execute_result"
    }
   ],
   "source": [
    "white_wine.shape"
   ]
  },
  {
   "cell_type": "markdown",
   "id": "474fbe3c-5af2-48d5-8209-60467b652f67",
   "metadata": {},
   "source": [
    "#### Отчистка"
   ]
  },
  {
   "cell_type": "code",
   "execution_count": 7,
   "id": "6f1402a5-6961-48a0-92cb-4ee4c876a06a",
   "metadata": {},
   "outputs": [
    {
     "name": "stdout",
     "output_type": "stream",
     "text": [
      "<class 'pandas.core.frame.DataFrame'>\n",
      "RangeIndex: 1599 entries, 0 to 1598\n",
      "Data columns (total 12 columns):\n",
      " #   Column                Non-Null Count  Dtype  \n",
      "---  ------                --------------  -----  \n",
      " 0   fixed acidity         1599 non-null   float64\n",
      " 1   volatile acidity      1599 non-null   float64\n",
      " 2   citric acid           1599 non-null   float64\n",
      " 3   residual sugar        1599 non-null   float64\n",
      " 4   chlorides             1599 non-null   float64\n",
      " 5   free sulfur dioxide   1599 non-null   float64\n",
      " 6   total sulfur dioxide  1599 non-null   float64\n",
      " 7   density               1599 non-null   float64\n",
      " 8   pH                    1599 non-null   float64\n",
      " 9   sulphates             1599 non-null   float64\n",
      " 10  alcohol               1599 non-null   float64\n",
      " 11  quality               1599 non-null   int64  \n",
      "dtypes: float64(11), int64(1)\n",
      "memory usage: 150.0 KB\n"
     ]
    }
   ],
   "source": [
    "# red\n",
    "red_wine.info()"
   ]
  },
  {
   "cell_type": "code",
   "execution_count": 8,
   "id": "34a58599-4439-44d3-8535-23d34038ff1c",
   "metadata": {},
   "outputs": [
    {
     "data": {
      "text/plain": [
       "fixed acidity           0\n",
       "volatile acidity        0\n",
       "citric acid             0\n",
       "residual sugar          0\n",
       "chlorides               0\n",
       "free sulfur dioxide     0\n",
       "total sulfur dioxide    0\n",
       "density                 0\n",
       "pH                      0\n",
       "sulphates               0\n",
       "alcohol                 0\n",
       "quality                 0\n",
       "dtype: int64"
      ]
     },
     "execution_count": 8,
     "metadata": {},
     "output_type": "execute_result"
    }
   ],
   "source": [
    "red_wine.isnull().sum()"
   ]
  },
  {
   "cell_type": "code",
   "execution_count": 9,
   "id": "5ee65490-116c-4911-ada2-baf337b73ef3",
   "metadata": {},
   "outputs": [
    {
     "data": {
      "text/plain": [
       "(1228, 12)"
      ]
     },
     "execution_count": 9,
     "metadata": {},
     "output_type": "execute_result"
    }
   ],
   "source": [
    "# удаляем выбросы\n",
    "red_no_outliers = red_wine[np.abs(red_wine-red_wine.mean()) <= (3*red_wine.std())]\n",
    "# удаляем дубли и NaN\n",
    "red_filtered = red_no_outliers.drop_duplicates().dropna()\n",
    "\n",
    "red_filtered.shape"
   ]
  },
  {
   "cell_type": "code",
   "execution_count": 10,
   "id": "2e18f3b5-2799-4dd5-b77c-389cdddfe015",
   "metadata": {},
   "outputs": [
    {
     "name": "stdout",
     "output_type": "stream",
     "text": [
      "<class 'pandas.core.frame.DataFrame'>\n",
      "RangeIndex: 4898 entries, 0 to 4897\n",
      "Data columns (total 12 columns):\n",
      " #   Column                Non-Null Count  Dtype  \n",
      "---  ------                --------------  -----  \n",
      " 0   fixed acidity         4898 non-null   float64\n",
      " 1   volatile acidity      4898 non-null   float64\n",
      " 2   citric acid           4898 non-null   float64\n",
      " 3   residual sugar        4898 non-null   float64\n",
      " 4   chlorides             4898 non-null   float64\n",
      " 5   free sulfur dioxide   4898 non-null   float64\n",
      " 6   total sulfur dioxide  4898 non-null   float64\n",
      " 7   density               4898 non-null   float64\n",
      " 8   pH                    4898 non-null   float64\n",
      " 9   sulphates             4898 non-null   float64\n",
      " 10  alcohol               4898 non-null   float64\n",
      " 11  quality               4898 non-null   int64  \n",
      "dtypes: float64(11), int64(1)\n",
      "memory usage: 459.3 KB\n"
     ]
    }
   ],
   "source": [
    "# white\n",
    "white_wine.info()"
   ]
  },
  {
   "cell_type": "code",
   "execution_count": 11,
   "id": "d51a9164-4d85-4741-8843-3a1c91036f57",
   "metadata": {},
   "outputs": [
    {
     "data": {
      "text/plain": [
       "fixed acidity           0\n",
       "volatile acidity        0\n",
       "citric acid             0\n",
       "residual sugar          0\n",
       "chlorides               0\n",
       "free sulfur dioxide     0\n",
       "total sulfur dioxide    0\n",
       "density                 0\n",
       "pH                      0\n",
       "sulphates               0\n",
       "alcohol                 0\n",
       "quality                 0\n",
       "dtype: int64"
      ]
     },
     "execution_count": 11,
     "metadata": {},
     "output_type": "execute_result"
    }
   ],
   "source": [
    "white_wine.isnull().sum()"
   ]
  },
  {
   "cell_type": "markdown",
   "id": "e73e7f2c-a3c3-4bbd-ac71-b17bfda498c9",
   "metadata": {},
   "source": [
    "Как видно, пропущенных значений нет ни у датасета с красным вином, ни у датасета с белым"
   ]
  },
  {
   "cell_type": "code",
   "execution_count": 12,
   "id": "2617fbd6-6ac6-417f-9749-0d2bbd1225f4",
   "metadata": {},
   "outputs": [
    {
     "data": {
      "text/plain": [
       "(3603, 12)"
      ]
     },
     "execution_count": 12,
     "metadata": {},
     "output_type": "execute_result"
    }
   ],
   "source": [
    "# white\n",
    "# удаляем выбросы\n",
    "white_no_outliers = white_wine[np.abs(white_wine-white_wine.mean()) <= (3*white_wine.std())]\n",
    "# удаляем дубли и NaN\n",
    "white_filtered = white_no_outliers.drop_duplicates().dropna()\n",
    "\n",
    "white_filtered.shape"
   ]
  },
  {
   "cell_type": "markdown",
   "id": "91e27f0a-5fc0-43fd-acae-274bd791b657",
   "metadata": {},
   "source": [
    "# Классификация"
   ]
  },
  {
   "cell_type": "markdown",
   "id": "08900c92-9b95-4379-ba44-7fd12b680067",
   "metadata": {},
   "source": [
    "### Метка класса\n",
    "В роли целевого атрибута (метки класса) выступит атрибут quality - т.к. это порядковый атрибут, имеет конечный набор значений."
   ]
  },
  {
   "cell_type": "code",
   "execution_count": 13,
   "id": "0cf97224-b7ab-46f6-a082-a6513d87fd85",
   "metadata": {},
   "outputs": [
    {
     "name": "stdout",
     "output_type": "stream",
     "text": [
      "{4.0, 5.0, 6.0, 7.0, 8.0}\n",
      "{4.0, 5.0, 6.0, 7.0, 8.0}\n"
     ]
    }
   ],
   "source": [
    "print(set(red_filtered[['quality']].to_numpy().flatten()))\n",
    "print(set(white_filtered[['quality']].to_numpy().flatten()))"
   ]
  },
  {
   "cell_type": "code",
   "execution_count": 14,
   "id": "c6ea0c5a-b9e0-4265-9c18-31ac72bfdb2e",
   "metadata": {},
   "outputs": [],
   "source": [
    "from sklearn.neighbors import KNeighborsClassifier\n",
    "from sklearn.model_selection import train_test_split\n",
    "from sklearn.preprocessing import StandardScaler\n",
    "from yellowbrick.classifier import ClassificationReport"
   ]
  },
  {
   "cell_type": "code",
   "execution_count": 15,
   "id": "4ae5dd20-240a-4aaf-9571-126d719ab3c4",
   "metadata": {},
   "outputs": [],
   "source": [
    "columns = [\n",
    "    'fixed acidity', \n",
    "    'volatile acidity', \n",
    "    'citric acid', \n",
    "    'residual sugar', \n",
    "    'chlorides', \n",
    "    'free sulfur dioxide', \n",
    "    'total sulfur dioxide', \n",
    "    'density', \n",
    "    'pH', \n",
    "    'sulphates', \n",
    "    'alcohol',\n",
    "    #'quality',\n",
    "]\n"
   ]
  },
  {
   "cell_type": "code",
   "execution_count": 16,
   "id": "d4704870-3a56-4533-8299-7260764d5330",
   "metadata": {},
   "outputs": [],
   "source": [
    "X_red = red_filtered[columns]\n",
    "y_red = red_filtered[['quality']]\n",
    "\n",
    "X_tr_red, X_t_red, y_tr_red, y_t_red = train_test_split(X_red, y_red, test_size=0.3, stratify=y_red)\n",
    "\n",
    "sc = StandardScaler()\n",
    "sc.fit(X_tr_red)\n",
    "X_tr_std_red = sc.transform (X_tr_red)\n",
    "X_t_std_red = sc.transform (X_t_red)"
   ]
  },
  {
   "cell_type": "code",
   "execution_count": 17,
   "id": "8e3edf53-d0ce-4828-89be-c550641deeae",
   "metadata": {},
   "outputs": [],
   "source": [
    "X_white = white_filtered[columns]\n",
    "y_white = white_filtered[['quality']]\n",
    "\n",
    "X_tr_white , X_t_white , y_tr_white , y_t_white = train_test_split (X_white, y_white, test_size=0.3, stratify=y_white)\n",
    "\n",
    "sc = StandardScaler()\n",
    "sc.fit(X_tr_white)\n",
    "X_tr_std_white = sc.transform (X_tr_white)\n",
    "X_t_std_white = sc.transform (X_t_white)"
   ]
  },
  {
   "cell_type": "markdown",
   "id": "b9002578-5353-4758-a78e-cb594fafda76",
   "metadata": {},
   "source": [
    "#### KNN"
   ]
  },
  {
   "cell_type": "markdown",
   "id": "8892f585-205d-4bb9-ac09-5ddd558b0692",
   "metadata": {},
   "source": [
    "Определяем оптимальный параметр k и остальные настройки модели"
   ]
  },
  {
   "cell_type": "code",
   "execution_count": 18,
   "id": "eafe4dcb-6807-4cca-a38a-d1071783087d",
   "metadata": {},
   "outputs": [],
   "source": [
    "from sklearn.model_selection import GridSearchCV\n",
    "\n",
    "grid_params = { 'n_neighbors': [i for i in range(1, 25)],\n",
    "\t'weights': ['uniform','distance'],\n",
    "\t'metric': ['minkowski', 'euclidean', 'manhattan'],\n",
    "}"
   ]
  },
  {
   "cell_type": "markdown",
   "id": "11dea761-6aee-4e26-b668-8c8cf120fd04",
   "metadata": {},
   "source": [
    "Красное вино"
   ]
  },
  {
   "cell_type": "code",
   "execution_count": 19,
   "id": "37dcd227-07d0-4bbf-9ecf-9e25e5f804d7",
   "metadata": {},
   "outputs": [
    {
     "name": "stdout",
     "output_type": "stream",
     "text": [
      "{'metric': 'minkowski', 'n_neighbors': 20, 'weights': 'distance'}\n"
     ]
    }
   ],
   "source": [
    "knn = KNeighborsClassifier()\n",
    "gs = GridSearchCV(knn, grid_params, scoring='accuracy', refit=True)\n",
    "\n",
    "gs_res = gs.fit(X_tr_std_red, y_tr_red)\n",
    "print(gs_res.best_params_)"
   ]
  },
  {
   "cell_type": "markdown",
   "id": "15487752-3fad-4e5c-bcd7-bf7d136699d5",
   "metadata": {},
   "source": [
    "Белое вино"
   ]
  },
  {
   "cell_type": "code",
   "execution_count": 20,
   "id": "8d386aa5-b8f7-4b57-b95e-61a6a3fb234a",
   "metadata": {},
   "outputs": [
    {
     "name": "stdout",
     "output_type": "stream",
     "text": [
      "{'metric': 'manhattan', 'n_neighbors': 21, 'weights': 'distance'}\n"
     ]
    }
   ],
   "source": [
    "knn = KNeighborsClassifier()\n",
    "gs = GridSearchCV(knn, grid_params, scoring='accuracy', refit=True)\n",
    "\n",
    "gs_res = gs.fit(X_tr_std_white, y_tr_white)\n",
    "print(gs_res.best_params_)"
   ]
  },
  {
   "cell_type": "markdown",
   "id": "6630e060-6bf1-492b-a1f6-5f47c7c71aa8",
   "metadata": {},
   "source": [
    "Сама классификация"
   ]
  },
  {
   "cell_type": "markdown",
   "id": "5496973b-6095-47e0-ab0d-507a72b654e5",
   "metadata": {},
   "source": [
    "Красное вино"
   ]
  },
  {
   "cell_type": "code",
   "execution_count": 21,
   "id": "a5a2fe6c-6b4f-4394-893f-5be148225673",
   "metadata": {},
   "outputs": [],
   "source": [
    "knn = KNeighborsClassifier(\n",
    "    n_neighbors=9, \n",
    "    p=1, # minkowski default is 2\n",
    "    weights='uniform',\n",
    ")\n",
    "knn.fit(X_tr_std_red, y_tr_red)\n",
    "knn_predicted_red = knn.predict(X_t_std_red)"
   ]
  },
  {
   "cell_type": "code",
   "execution_count": 22,
   "id": "1e90b281-0541-47c8-8849-64e2c4e905f8",
   "metadata": {},
   "outputs": [
    {
     "name": "stdout",
     "output_type": "stream",
     "text": [
      "0.5907859078590786\n"
     ]
    }
   ],
   "source": [
    "# accuracy\n",
    "actual = y_t_red.to_numpy()\n",
    "\n",
    "count_right = 0\n",
    "count_wrong = 0\n",
    "for i in range(len(actual)):\n",
    "    if actual[i] == knn_predicted_red[i]:\n",
    "        count_right += 1\n",
    "    else:\n",
    "        count_wrong += 1\n",
    "\n",
    "acc = count_right / (count_right + count_wrong)\n",
    "print(acc)"
   ]
  },
  {
   "cell_type": "markdown",
   "id": "29572ae5-8547-4bf3-80e2-ef3ba1c40114",
   "metadata": {},
   "source": [
    "#### Accuracy для красного вина составила ~ 55.3%"
   ]
  },
  {
   "cell_type": "markdown",
   "id": "d3b7efeb-7b4a-4b6c-9153-423b9f826337",
   "metadata": {},
   "source": [
    "Precision, recall, F-measure"
   ]
  },
  {
   "cell_type": "code",
   "execution_count": 23,
   "id": "e50328c3-0980-4a1c-b136-83bd735dcb91",
   "metadata": {},
   "outputs": [
    {
     "name": "stdout",
     "output_type": "stream",
     "text": [
      "      quality\n",
      "61        5.0\n",
      "508       6.0\n",
      "710       5.0\n",
      "577       5.0\n",
      "1160      7.0\n",
      "...       ...\n",
      "341       6.0\n",
      "645       7.0\n",
      "363       5.0\n",
      "432       6.0\n",
      "541       6.0\n",
      "\n",
      "[859 rows x 1 columns]\n",
      "      quality\n",
      "1082      6.0\n",
      "748       6.0\n",
      "1315      6.0\n",
      "495       8.0\n",
      "932       6.0\n",
      "...       ...\n",
      "34        5.0\n",
      "1189      4.0\n",
      "802       7.0\n",
      "56        5.0\n",
      "507       6.0\n",
      "\n",
      "[369 rows x 1 columns]\n"
     ]
    }
   ],
   "source": [
    "print(y_tr_red)\n",
    "print(y_t_red)"
   ]
  },
  {
   "cell_type": "code",
   "execution_count": 37,
   "id": "5e0cfd9d-e6fc-4ea1-a17b-6326e6a4bab0",
   "metadata": {},
   "outputs": [
    {
     "data": {
      "image/png": "[encoded data removed]",
      "text/plain": [
       "<Figure size 800x550 with 2 Axes>"
      ]
     },
     "metadata": {},
     "output_type": "display_data"
    }
   ],
   "source": [
    "knn = KNeighborsClassifier(\n",
    "    n_neighbors=20, \n",
    "    p=1, # minkowski default is 2\n",
    "    weights='uniform',\n",
    ")\n",
    "visualizer = ClassificationReport(knn)\n",
    "visualizer.fit(X_tr_std_red, y_tr_red)\n",
    "visualizer.score(X_t_std_red, y_t_red)\n",
    "fig = visualizer.show()"
   ]
  },
  {
   "cell_type": "code",
   "execution_count": null,
   "id": "63f78630-bcc2-4c1f-a3bc-d3179c953383",
   "metadata": {},
   "outputs": [],
   "source": []
  }
 ],
 "metadata": {
  "kernelspec": {
   "display_name": "Python 3 (ipykernel)",
   "language": "python",
   "name": "python3"
  },
  "language_info": {
   "codemirror_mode": {
    "name": "ipython",
    "version": 3
   },
   "file_extension": ".py",
   "mimetype": "text/x-python",
   "name": "python",
   "nbconvert_exporter": "python",
   "pygments_lexer": "ipython3",
   "version": "3.10.12"
  }
 },
 "nbformat": 4,
 "nbformat_minor": 5
}
